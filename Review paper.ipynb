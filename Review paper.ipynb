{
 "cells": [
  {
   "cell_type": "code",
   "execution_count": 1,
   "id": "09748dc7-e853-4e21-ad95-0cdf92518076",
   "metadata": {},
   "outputs": [],
   "source": [
    "#Select Encoding for representation\n",
    "import numpy as np\n",
    "import pandas as pd\n",
    "import os, re, math, platform\n",
    "from pathlib import Path\n",
    "import matplotlib.pyplot as plt\n",
    "import json\n",
    "import joblib\n",
    "from scipy.stats import randint as sp_randint\n",
    "from sklearn.model_selection import train_test_split\n",
    "from sklearn.model_selection import KFold\n",
    "from sklearn.model_selection import RandomizedSearchCV\n",
    "from imblearn.over_sampling import SMOTE\n",
    "from sklearn.preprocessing import StandardScaler\n",
    "from sklearn.metrics import matthews_corrcoef, confusion_matrix\n",
    "from sklearn.metrics import precision_recall_curve, roc_curve, auc, fbeta_score\n",
    "from imblearn.metrics import geometric_mean_score\n",
    "from sklearn.neural_network import MLPClassifier\n",
    "from xgboost import XGBClassifier \n",
    "from xgboost import plot_importance\n",
    "#!pip install lightgbm\n",
    "from lightgbm import LGBMClassifier\n",
    "from sklearn.ensemble import BaggingClassifier\n",
    "from sklearn.ensemble import GradientBoostingClassifier,RandomForestClassifier,ExtraTreesClassifier,AdaBoostClassifier\n",
    "from sklearn.linear_model import LogisticRegression\n",
    "from sklearn.neighbors import KNeighborsClassifier\n",
    "from sklearn.svm import SVC\n",
    "from Bio import SeqIO\n",
    "from Bio.SeqUtils.ProtParam import ProteinAnalysis as PA\n",
    "from modlamp.descriptors import PeptideDescriptor, GlobalDescriptor\n",
    "from matplotlib import pyplot\n",
    "from sklearn.metrics import matthews_corrcoef, confusion_matrix,precision_recall_curve, roc_curve, auc, fbeta_score,roc_auc_score\n",
    "from fea_extract import read_fasta,insert_AAC,insert_DPC,insert_CKSAAGP,insert_CTD,insert_PAAC,insert_AAI,insert_GTPC,insert_QSO,insert_AAE,insert_PSAAC,insert_word2int,insert_ASDC\n",
    "import warnings \n",
    "from tools import cv,evaluate\n",
    "warnings.filterwarnings('ignore')"
   ]
  },
  {
   "cell_type": "code",
   "execution_count": 2,
   "id": "b95c4e41-edb0-410b-acb8-65d0d4c999a2",
   "metadata": {},
   "outputs": [],
   "source": [
    "seed = 10\n",
    "Path('./results/evalue/').mkdir(exist_ok=True,parents=True)\n",
    "Path('./results/evalue_balance/').mkdir(exist_ok=True,parents=True)"
   ]
  },
  {
   "cell_type": "code",
   "execution_count": 3,
   "id": "22290f94-5b1d-4ff8-9433-e483ff2a0006",
   "metadata": {},
   "outputs": [],
   "source": [
    "def pro_data(seq):\n",
    "    df_n = insert_PAAC(seq)\n",
    "    df_n = insert_AAC(df_n)\n",
    "    df_n = insert_CKSAAGP(df_n)\n",
    "    df_n = insert_CTD(df_n)\n",
    "    #df_n = insert_DPC(df_n)\n",
    "    #df_n = insert_GTPC(df_n)\n",
    "    #df_n = insert_QSO(df_n)\n",
    "    #df_n = insert_AAE(df_n)\n",
    "    #df_n = insert_ASDC(df_n)\n",
    "    #df_n = insert_word2int(df_n)\n",
    "    return df_n"
   ]
  },
  {
   "cell_type": "code",
   "execution_count": 4,
   "id": "7bbcc2dd-247d-4c79-a6b4-427014c4a4dd",
   "metadata": {},
   "outputs": [],
   "source": [
    "#for reviw paper, evaluation on ACP10\n",
    "seq_X_train = pd.read_csv('data/train/X_train.csv')\n",
    "seq_X_test = pd.read_csv('data/test/acp10/test.csv')\n",
    "seq_y_train = pd.read_csv('data/train/y_train.csv')\n",
    "seq_y_test = pd.read_csv('data/test/acp10/y_test1.csv')"
   ]
  },
  {
   "cell_type": "code",
   "execution_count": 5,
   "id": "276d4489-64da-4f90-8f4d-a1fdc2c1e724",
   "metadata": {},
   "outputs": [],
   "source": [
    "Seq_X_train = pro_data(seq_X_train)\n",
    "Seq_X_test = pro_data(seq_X_test)"
   ]
  },
  {
   "cell_type": "code",
   "execution_count": 6,
   "id": "c7839a65-91af-46c4-bd30-654ded7a1ee8",
   "metadata": {},
   "outputs": [],
   "source": [
    "Seq_X_train.to_csv('data/train/Seq_X_train_all.csv',index=False)\n",
    "Seq_X_test.to_csv('data/test/Seq_X_test_all.csv',index=False)"
   ]
  },
  {
   "cell_type": "code",
   "execution_count": 7,
   "id": "a843b938-96a3-4f47-ba16-2ef55a39dc6d",
   "metadata": {},
   "outputs": [],
   "source": [
    "from sklearn.tree import DecisionTreeClassifier\n",
    "from sklearn.ensemble import VotingClassifier\n",
    "from mlxtend.classifier import StackingClassifier\n",
    "\n",
    "from sklearn.svm import LinearSVC\n",
    "\n",
    "ml = [\"LGBM\",\"GBDT\",\"ET\",\"RF\",\"XGBoost\",\"voting_clf\"]\n",
    "\n",
    "#layer_one= [  LGBMClassifier(random_state = seed),ExtraTreesClassifier(random_state=seed),RandomForestClassifier(random_state=seed),MLPClassifier(hidden_layer_sizes=900,learning_rate=\"adaptive\",random_state=seed)]\n",
    "                     #('rf5',GaussianNB()),\n",
    "#                   ('SVM', SVC(kernel='linear',probability=True))]\n",
    "#layer_two = [SVC(random_state=seed,probability=True), ExtraTreesClassifier(random_state=seed),RandomForestClassifier(random_state=seed),LGBMClassifier(random_state = seed)]\n",
    "             #GaussianNB()]\n",
    "#                   ('SVC', SVC(kernel='linear',probability=True))]\n",
    "\n",
    "\n",
    "\n",
    "#layer_two_meta= StackingClassifier(classifiers = layer_two, meta_classifier=LogisticRegression())    \n",
    "#DT  = DecisionTreeClassifier(random_state=seed)\n",
    "LGBM = LGBMClassifier(random_state = seed)\n",
    "GBDT = GradientBoostingClassifier(random_state=seed)\n",
    "ET = ExtraTreesClassifier(random_state=seed)\n",
    "#SVM = SVC(random_state=seed,probability=True)\n",
    "#MLP = MLPClassifier(hidden_layer_sizes=1200,learning_rate=\"adaptive\",random_state=seed)\n",
    "RF = RandomForestClassifier(random_state=seed)\n",
    "XGBoost = XGBClassifier(random_state=seed)\n",
    "#LR  = LogisticRegression(random_state=seed,solver='liblinear')\n",
    "#AB = AdaBoostClassifier(random_state=seed)\n",
    "\n",
    "\n",
    "#SDG = SGDClassifier(max_iter=1200, tol=1e-3) \n",
    "voting_clf = VotingClassifier(estimators = [('xgb',XGBoost),('ET',ET)], voting = 'soft')\n",
    "#Bagging_clf = BaggingClassifier(base_estimator=RandomForestClassifier(random_state=seed))\n",
    "#VOT_STACK = StackingClassifier(classifiers = voting_clf, meta_classifier=LR)\n",
    "#stacking = StackingClassifier(classifiers=[LGBM,XGBoost,GBDT],meta_classifier=LR)\n",
    "#Two_eclf = StackingClassifier(classifiers=layer_one, meta_classifier=layer_two_meta)"
   ]
  },
  {
   "cell_type": "code",
   "execution_count": 8,
   "id": "cd4ec8ff-61f2-4095-b33f-c43a55af65ff",
   "metadata": {},
   "outputs": [],
   "source": [
    "fea = Seq_X_train.columns[2:]\n",
    "X_train = Seq_X_train[fea].to_numpy()\n",
    "X_test = Seq_X_test[fea].to_numpy()\n",
    "y_train = seq_y_train.to_numpy()\n",
    "y_test = seq_y_test.to_numpy()"
   ]
  },
  {
   "cell_type": "code",
   "execution_count": 9,
   "id": "ec4f7171-1cbc-4479-8e1a-539459d1fb64",
   "metadata": {},
   "outputs": [
    {
     "data": {
      "text/plain": [
       "(1520, 265)"
      ]
     },
     "execution_count": 9,
     "metadata": {},
     "output_type": "execute_result"
    }
   ],
   "source": [
    "X_train.shape"
   ]
  },
  {
   "cell_type": "code",
   "execution_count": 10,
   "id": "665e94d8-b594-40ce-b198-a1821afce25b",
   "metadata": {},
   "outputs": [
    {
     "data": {
      "text/plain": [
       "(20, 265)"
      ]
     },
     "execution_count": 10,
     "metadata": {},
     "output_type": "execute_result"
    }
   ],
   "source": [
    "X_test.shape"
   ]
  },
  {
   "cell_type": "code",
   "execution_count": 11,
   "id": "c1da95f9-f935-4363-bdaf-f6ecde99501d",
   "metadata": {},
   "outputs": [
    {
     "data": {
      "text/plain": [
       "array([[0.27018745, 0.        , 0.        , ..., 0.04296875, 0.04296875,\n",
       "        0.04296875],\n",
       "       [0.        , 0.40979551, 0.81959102, ..., 0.01902497, 0.02615933,\n",
       "        0.03210464],\n",
       "       [0.        , 0.20836102, 0.        , ..., 0.01388889, 0.01388889,\n",
       "        0.0625    ],\n",
       "       ...,\n",
       "       [1.07655063, 0.        , 1.43540084, ..., 0.01086464, 0.01674966,\n",
       "        0.0212766 ],\n",
       "       [0.90127313, 0.        , 0.30042438, ..., 0.00888889, 0.03111111,\n",
       "        0.06666667],\n",
       "       [1.42636493, 0.        , 0.47545498, ..., 0.01777778, 0.02555556,\n",
       "        0.03333333]])"
      ]
     },
     "execution_count": 11,
     "metadata": {},
     "output_type": "execute_result"
    }
   ],
   "source": [
    "X_train"
   ]
  },
  {
   "cell_type": "code",
   "execution_count": 12,
   "id": "46d26364-7f4c-495c-8623-6c359dfda208",
   "metadata": {},
   "outputs": [
    {
     "data": {
      "text/plain": [
       "(20, 265)"
      ]
     },
     "execution_count": 12,
     "metadata": {},
     "output_type": "execute_result"
    }
   ],
   "source": [
    "X_test.shape"
   ]
  },
  {
   "cell_type": "code",
   "execution_count": 13,
   "id": "2a42d52f-990d-4e7d-aabc-7f231ca398cc",
   "metadata": {},
   "outputs": [
    {
     "data": {
      "text/plain": [
       "array([[1],\n",
       "       [1],\n",
       "       [1],\n",
       "       [1],\n",
       "       [1],\n",
       "       [1],\n",
       "       [1],\n",
       "       [1],\n",
       "       [1],\n",
       "       [1],\n",
       "       [0],\n",
       "       [0],\n",
       "       [0],\n",
       "       [0],\n",
       "       [0],\n",
       "       [0],\n",
       "       [0],\n",
       "       [0],\n",
       "       [0],\n",
       "       [0]])"
      ]
     },
     "execution_count": 13,
     "metadata": {},
     "output_type": "execute_result"
    }
   ],
   "source": [
    "y_test\n"
   ]
  },
  {
   "cell_type": "code",
   "execution_count": 14,
   "id": "97c81c84-8002-4e5e-b937-1df905db6e21",
   "metadata": {},
   "outputs": [
    {
     "name": "stdout",
     "output_type": "stream",
     "text": [
      "process_LGBM\n",
      "[LightGBM] [Info] Number of positive: 608, number of negative: 608\n",
      "[LightGBM] [Warning] Auto-choosing col-wise multi-threading, the overhead of testing was 0.018736 seconds.\n",
      "You can set `force_col_wise=true` to remove the overhead.\n",
      "[LightGBM] [Info] Total Bins 44550\n",
      "[LightGBM] [Info] Number of data points in the train set: 1216, number of used features: 265\n",
      "[LightGBM] [Info] [binary:BoostFromScore]: pavg=0.500000 -> initscore=0.000000\n",
      "[LightGBM] [Warning] No further splits with positive gain, best gain: -inf\n",
      "[LightGBM] [Info] Number of positive: 625, number of negative: 591\n",
      "[LightGBM] [Warning] Auto-choosing col-wise multi-threading, the overhead of testing was 0.014949 seconds.\n",
      "You can set `force_col_wise=true` to remove the overhead.\n",
      "[LightGBM] [Info] Total Bins 43974\n",
      "[LightGBM] [Info] Number of data points in the train set: 1216, number of used features: 265\n",
      "[LightGBM] [Info] [binary:BoostFromScore]: pavg=0.513980 -> initscore=0.055936\n",
      "[LightGBM] [Info] Start training from score 0.055936\n",
      "[LightGBM] [Warning] No further splits with positive gain, best gain: -inf\n",
      "[LightGBM] [Info] Number of positive: 607, number of negative: 609\n",
      "[LightGBM] [Warning] Auto-choosing col-wise multi-threading, the overhead of testing was 0.015098 seconds.\n",
      "You can set `force_col_wise=true` to remove the overhead.\n",
      "[LightGBM] [Info] Total Bins 44375\n",
      "[LightGBM] [Info] Number of data points in the train set: 1216, number of used features: 265\n",
      "[LightGBM] [Info] [binary:BoostFromScore]: pavg=0.499178 -> initscore=-0.003289\n",
      "[LightGBM] [Info] Start training from score -0.003289\n",
      "[LightGBM] [Warning] No further splits with positive gain, best gain: -inf\n",
      "[LightGBM] [Info] Number of positive: 610, number of negative: 606\n",
      "[LightGBM] [Warning] Auto-choosing col-wise multi-threading, the overhead of testing was 0.012780 seconds.\n",
      "You can set `force_col_wise=true` to remove the overhead.\n",
      "[LightGBM] [Info] Total Bins 44103\n",
      "[LightGBM] [Info] Number of data points in the train set: 1216, number of used features: 265\n",
      "[LightGBM] [Info] [binary:BoostFromScore]: pavg=0.501645 -> initscore=0.006579\n",
      "[LightGBM] [Info] Start training from score 0.006579\n",
      "[LightGBM] [Warning] No further splits with positive gain, best gain: -inf\n",
      "[LightGBM] [Info] Number of positive: 602, number of negative: 614\n",
      "[LightGBM] [Warning] Auto-choosing col-wise multi-threading, the overhead of testing was 0.006481 seconds.\n",
      "You can set `force_col_wise=true` to remove the overhead.\n",
      "[LightGBM] [Info] Total Bins 44682\n",
      "[LightGBM] [Info] Number of data points in the train set: 1216, number of used features: 265\n",
      "[LightGBM] [Info] [binary:BoostFromScore]: pavg=0.495066 -> initscore=-0.019737\n",
      "[LightGBM] [Info] Start training from score -0.019737\n",
      "[LightGBM] [Warning] No further splits with positive gain, best gain: -inf\n",
      "process_GBDT\n",
      "process_ET\n",
      "process_RF\n",
      "process_XGBoost\n",
      "process_voting_clf\n"
     ]
    }
   ],
   "source": [
    "index = []\n",
    "ALL_eval=pd.DataFrame()\n",
    "for i in ml:\n",
    "    print('process_{}'.format(i))\n",
    "    model = eval(i)\n",
    "    Evals = cv(model,X_train,y_train)\n",
    "    ALL_eval = pd.concat([ALL_eval,Evals],axis=1)\n",
    "    index.append(\"{}\".format(i))\n",
    "ALL_eval.columns = index"
   ]
  },
  {
   "cell_type": "code",
   "execution_count": 15,
   "id": "fd56cb78-0a62-40dd-903b-35fe44e28519",
   "metadata": {},
   "outputs": [],
   "source": [
    "voting_preds = voting_clf.predict(X_test)"
   ]
  },
  {
   "cell_type": "code",
   "execution_count": 16,
   "id": "5bbf14ad-af6c-4a81-b8e4-fb0c1d30b1cd",
   "metadata": {},
   "outputs": [
    {
     "data": {
      "text/html": [
       "<div>\n",
       "<style scoped>\n",
       "    .dataframe tbody tr th:only-of-type {\n",
       "        vertical-align: middle;\n",
       "    }\n",
       "\n",
       "    .dataframe tbody tr th {\n",
       "        vertical-align: top;\n",
       "    }\n",
       "\n",
       "    .dataframe thead th {\n",
       "        text-align: right;\n",
       "    }\n",
       "</style>\n",
       "<table border=\"1\" class=\"dataframe\">\n",
       "  <thead>\n",
       "    <tr style=\"text-align: right;\">\n",
       "      <th></th>\n",
       "      <th>LGBM</th>\n",
       "      <th>GBDT</th>\n",
       "      <th>ET</th>\n",
       "      <th>RF</th>\n",
       "      <th>XGBoost</th>\n",
       "      <th>voting_clf</th>\n",
       "    </tr>\n",
       "  </thead>\n",
       "  <tbody>\n",
       "    <tr>\n",
       "      <th>ACC</th>\n",
       "      <td>0.922368</td>\n",
       "      <td>0.911842</td>\n",
       "      <td>0.918421</td>\n",
       "      <td>0.911842</td>\n",
       "      <td>0.915132</td>\n",
       "      <td>0.917105</td>\n",
       "    </tr>\n",
       "    <tr>\n",
       "      <th>F1</th>\n",
       "      <td>0.920290</td>\n",
       "      <td>0.910178</td>\n",
       "      <td>0.914762</td>\n",
       "      <td>0.909453</td>\n",
       "      <td>0.913646</td>\n",
       "      <td>0.915602</td>\n",
       "    </tr>\n",
       "    <tr>\n",
       "      <th>F2</th>\n",
       "      <td>0.908146</td>\n",
       "      <td>0.903150</td>\n",
       "      <td>0.894414</td>\n",
       "      <td>0.897369</td>\n",
       "      <td>0.906928</td>\n",
       "      <td>0.907813</td>\n",
       "    </tr>\n",
       "    <tr>\n",
       "      <th>GMean</th>\n",
       "      <td>0.922373</td>\n",
       "      <td>0.912015</td>\n",
       "      <td>0.917812</td>\n",
       "      <td>0.911774</td>\n",
       "      <td>0.915133</td>\n",
       "      <td>0.917259</td>\n",
       "    </tr>\n",
       "    <tr>\n",
       "      <th>SEN</th>\n",
       "      <td>0.900377</td>\n",
       "      <td>0.898658</td>\n",
       "      <td>0.881421</td>\n",
       "      <td>0.889607</td>\n",
       "      <td>0.902649</td>\n",
       "      <td>0.902841</td>\n",
       "    </tr>\n",
       "    <tr>\n",
       "      <th>PREC</th>\n",
       "      <td>0.941953</td>\n",
       "      <td>0.922707</td>\n",
       "      <td>0.951205</td>\n",
       "      <td>0.930879</td>\n",
       "      <td>0.925694</td>\n",
       "      <td>0.929521</td>\n",
       "    </tr>\n",
       "    <tr>\n",
       "      <th>SPEC</th>\n",
       "      <td>0.945290</td>\n",
       "      <td>0.925856</td>\n",
       "      <td>0.955925</td>\n",
       "      <td>0.934768</td>\n",
       "      <td>0.928156</td>\n",
       "      <td>0.932248</td>\n",
       "    </tr>\n",
       "    <tr>\n",
       "      <th>MCC</th>\n",
       "      <td>0.846054</td>\n",
       "      <td>0.824287</td>\n",
       "      <td>0.839126</td>\n",
       "      <td>0.824723</td>\n",
       "      <td>0.830860</td>\n",
       "      <td>0.834981</td>\n",
       "    </tr>\n",
       "    <tr>\n",
       "      <th>AUC</th>\n",
       "      <td>0.973772</td>\n",
       "      <td>0.969656</td>\n",
       "      <td>0.973862</td>\n",
       "      <td>0.970234</td>\n",
       "      <td>0.973966</td>\n",
       "      <td>0.976039</td>\n",
       "    </tr>\n",
       "    <tr>\n",
       "      <th>AUPR</th>\n",
       "      <td>0.977354</td>\n",
       "      <td>0.973305</td>\n",
       "      <td>0.977559</td>\n",
       "      <td>0.973476</td>\n",
       "      <td>0.977327</td>\n",
       "      <td>0.979984</td>\n",
       "    </tr>\n",
       "  </tbody>\n",
       "</table>\n",
       "</div>"
      ],
      "text/plain": [
       "           LGBM      GBDT        ET        RF   XGBoost  voting_clf\n",
       "ACC    0.922368  0.911842  0.918421  0.911842  0.915132    0.917105\n",
       "F1     0.920290  0.910178  0.914762  0.909453  0.913646    0.915602\n",
       "F2     0.908146  0.903150  0.894414  0.897369  0.906928    0.907813\n",
       "GMean  0.922373  0.912015  0.917812  0.911774  0.915133    0.917259\n",
       "SEN    0.900377  0.898658  0.881421  0.889607  0.902649    0.902841\n",
       "PREC   0.941953  0.922707  0.951205  0.930879  0.925694    0.929521\n",
       "SPEC   0.945290  0.925856  0.955925  0.934768  0.928156    0.932248\n",
       "MCC    0.846054  0.824287  0.839126  0.824723  0.830860    0.834981\n",
       "AUC    0.973772  0.969656  0.973862  0.970234  0.973966    0.976039\n",
       "AUPR   0.977354  0.973305  0.977559  0.973476  0.977327    0.979984"
      ]
     },
     "execution_count": 16,
     "metadata": {},
     "output_type": "execute_result"
    }
   ],
   "source": [
    "ALL_eval"
   ]
  },
  {
   "cell_type": "code",
   "execution_count": 17,
   "id": "b0a9b6d5-1e35-4854-a145-21b3dad32258",
   "metadata": {},
   "outputs": [
    {
     "name": "stdout",
     "output_type": "stream",
     "text": [
      "process_LGBM\n",
      "[LightGBM] [Info] Number of positive: 763, number of negative: 757\n",
      "[LightGBM] [Warning] Auto-choosing col-wise multi-threading, the overhead of testing was 0.016349 seconds.\n",
      "You can set `force_col_wise=true` to remove the overhead.\n",
      "[LightGBM] [Info] Total Bins 46855\n",
      "[LightGBM] [Info] Number of data points in the train set: 1520, number of used features: 265\n",
      "[LightGBM] [Info] [binary:BoostFromScore]: pavg=0.501974 -> initscore=0.007895\n",
      "[LightGBM] [Info] Start training from score 0.007895\n",
      "process_GBDT\n",
      "process_ET\n",
      "process_RF\n",
      "process_XGBoost\n",
      "process_voting_clf\n"
     ]
    }
   ],
   "source": [
    "index = []\n",
    "ALL_eval_test=pd.DataFrame()\n",
    "for i in ml:\n",
    "    eval_dict = []\n",
    "    print('process_{}'.format(i))\n",
    "    model = eval(i)\n",
    "    model.fit(X_train,y_train)\n",
    "    eval_dictionary = evaluate(X_test,y_test,model)\n",
    "    eval_dict = eval_dict+[eval_dictionary]\n",
    "    Evals = pd.DataFrame(eval_dict).T\n",
    "    ALL_eval_test = pd.concat([ALL_eval_test,Evals],axis=1)\n",
    "    index.append(\"{}\".format(i))\n",
    "ALL_eval_test.columns = index"
   ]
  },
  {
   "cell_type": "code",
   "execution_count": 34,
   "id": "fd9de850-9352-48f6-9a51-30ae7559acce",
   "metadata": {},
   "outputs": [
    {
     "data": {
      "text/html": [
       "<div>\n",
       "<style scoped>\n",
       "    .dataframe tbody tr th:only-of-type {\n",
       "        vertical-align: middle;\n",
       "    }\n",
       "\n",
       "    .dataframe tbody tr th {\n",
       "        vertical-align: top;\n",
       "    }\n",
       "\n",
       "    .dataframe thead th {\n",
       "        text-align: right;\n",
       "    }\n",
       "</style>\n",
       "<table border=\"1\" class=\"dataframe\">\n",
       "  <thead>\n",
       "    <tr style=\"text-align: right;\">\n",
       "      <th></th>\n",
       "      <th>LGBM</th>\n",
       "      <th>GBDT</th>\n",
       "      <th>ET</th>\n",
       "      <th>RF</th>\n",
       "      <th>XGBoost</th>\n",
       "      <th>voting_clf</th>\n",
       "    </tr>\n",
       "  </thead>\n",
       "  <tbody>\n",
       "    <tr>\n",
       "      <th>ACC</th>\n",
       "      <td>1.0</td>\n",
       "      <td>1.0</td>\n",
       "      <td>0.900000</td>\n",
       "      <td>0.900000</td>\n",
       "      <td>1.0</td>\n",
       "      <td>1.0</td>\n",
       "    </tr>\n",
       "    <tr>\n",
       "      <th>F1</th>\n",
       "      <td>1.0</td>\n",
       "      <td>1.0</td>\n",
       "      <td>0.909091</td>\n",
       "      <td>0.909091</td>\n",
       "      <td>1.0</td>\n",
       "      <td>1.0</td>\n",
       "    </tr>\n",
       "    <tr>\n",
       "      <th>F2</th>\n",
       "      <td>1.0</td>\n",
       "      <td>1.0</td>\n",
       "      <td>0.961538</td>\n",
       "      <td>0.961538</td>\n",
       "      <td>1.0</td>\n",
       "      <td>1.0</td>\n",
       "    </tr>\n",
       "    <tr>\n",
       "      <th>GMean</th>\n",
       "      <td>1.0</td>\n",
       "      <td>1.0</td>\n",
       "      <td>0.894427</td>\n",
       "      <td>0.894427</td>\n",
       "      <td>1.0</td>\n",
       "      <td>1.0</td>\n",
       "    </tr>\n",
       "    <tr>\n",
       "      <th>SEN</th>\n",
       "      <td>1.0</td>\n",
       "      <td>1.0</td>\n",
       "      <td>1.000000</td>\n",
       "      <td>1.000000</td>\n",
       "      <td>1.0</td>\n",
       "      <td>1.0</td>\n",
       "    </tr>\n",
       "    <tr>\n",
       "      <th>PREC</th>\n",
       "      <td>1.0</td>\n",
       "      <td>1.0</td>\n",
       "      <td>0.833333</td>\n",
       "      <td>0.833333</td>\n",
       "      <td>1.0</td>\n",
       "      <td>1.0</td>\n",
       "    </tr>\n",
       "    <tr>\n",
       "      <th>SPEC</th>\n",
       "      <td>1.0</td>\n",
       "      <td>1.0</td>\n",
       "      <td>0.800000</td>\n",
       "      <td>0.800000</td>\n",
       "      <td>1.0</td>\n",
       "      <td>1.0</td>\n",
       "    </tr>\n",
       "    <tr>\n",
       "      <th>MCC</th>\n",
       "      <td>1.0</td>\n",
       "      <td>1.0</td>\n",
       "      <td>0.816497</td>\n",
       "      <td>0.816497</td>\n",
       "      <td>1.0</td>\n",
       "      <td>1.0</td>\n",
       "    </tr>\n",
       "    <tr>\n",
       "      <th>AUC</th>\n",
       "      <td>1.0</td>\n",
       "      <td>1.0</td>\n",
       "      <td>0.995000</td>\n",
       "      <td>1.000000</td>\n",
       "      <td>1.0</td>\n",
       "      <td>1.0</td>\n",
       "    </tr>\n",
       "    <tr>\n",
       "      <th>AUPR</th>\n",
       "      <td>1.0</td>\n",
       "      <td>1.0</td>\n",
       "      <td>0.990909</td>\n",
       "      <td>1.000000</td>\n",
       "      <td>1.0</td>\n",
       "      <td>1.0</td>\n",
       "    </tr>\n",
       "  </tbody>\n",
       "</table>\n",
       "</div>"
      ],
      "text/plain": [
       "       LGBM  GBDT        ET        RF  XGBoost  voting_clf\n",
       "ACC     1.0   1.0  0.900000  0.900000      1.0         1.0\n",
       "F1      1.0   1.0  0.909091  0.909091      1.0         1.0\n",
       "F2      1.0   1.0  0.961538  0.961538      1.0         1.0\n",
       "GMean   1.0   1.0  0.894427  0.894427      1.0         1.0\n",
       "SEN     1.0   1.0  1.000000  1.000000      1.0         1.0\n",
       "PREC    1.0   1.0  0.833333  0.833333      1.0         1.0\n",
       "SPEC    1.0   1.0  0.800000  0.800000      1.0         1.0\n",
       "MCC     1.0   1.0  0.816497  0.816497      1.0         1.0\n",
       "AUC     1.0   1.0  0.995000  1.000000      1.0         1.0\n",
       "AUPR    1.0   1.0  0.990909  1.000000      1.0         1.0"
      ]
     },
     "execution_count": 34,
     "metadata": {},
     "output_type": "execute_result"
    }
   ],
   "source": [
    "ALL_eval_test"
   ]
  },
  {
   "cell_type": "code",
   "execution_count": 18,
   "id": "292dbfe6-188f-4eec-a160-4f4f20c14c16",
   "metadata": {},
   "outputs": [
    {
     "name": "stdout",
     "output_type": "stream",
     "text": [
      "Processing LGBM\n",
      "[LightGBM] [Info] Number of positive: 763, number of negative: 757\n",
      "[LightGBM] [Warning] Auto-choosing col-wise multi-threading, the overhead of testing was 0.016300 seconds.\n",
      "You can set `force_col_wise=true` to remove the overhead.\n",
      "[LightGBM] [Info] Total Bins 46855\n",
      "[LightGBM] [Info] Number of data points in the train set: 1520, number of used features: 265\n",
      "[LightGBM] [Info] [binary:BoostFromScore]: pavg=0.501974 -> initscore=0.007895\n",
      "[LightGBM] [Info] Start training from score 0.007895\n",
      "Processing GBDT\n",
      "Processing ET\n",
      "Processing RF\n",
      "Processing XGBoost\n",
      "Processing voting_clf\n"
     ]
    }
   ],
   "source": [
    "index = []\n",
    "ALL_probabilities = pd.DataFrame()\n",
    "\n",
    "for i in ml:\n",
    "    print('Processing {}'.format(i))\n",
    "    model = eval(i)\n",
    "    model.fit(X_train, y_train)\n",
    "    \n",
    "    # Get probabilities for positive class (class 1)\n",
    "    probabilities = model.predict_proba(X_test)[:, 1]\n",
    "    \n",
    "    # Store probabilities in a DataFrame\n",
    "    ALL_probabilities[i] = probabilities\n",
    "    \n",
    "    index.append(\"{}\".format(i))\n",
    "\n",
    "ALL_probabilities.columns = index"
   ]
  },
  {
   "cell_type": "code",
   "execution_count": 19,
   "id": "cf9ee01f-22cd-4c15-a700-7656031592c9",
   "metadata": {},
   "outputs": [
    {
     "data": {
      "text/html": [
       "<div>\n",
       "<style scoped>\n",
       "    .dataframe tbody tr th:only-of-type {\n",
       "        vertical-align: middle;\n",
       "    }\n",
       "\n",
       "    .dataframe tbody tr th {\n",
       "        vertical-align: top;\n",
       "    }\n",
       "\n",
       "    .dataframe thead th {\n",
       "        text-align: right;\n",
       "    }\n",
       "</style>\n",
       "<table border=\"1\" class=\"dataframe\">\n",
       "  <thead>\n",
       "    <tr style=\"text-align: right;\">\n",
       "      <th></th>\n",
       "      <th>LGBM</th>\n",
       "      <th>GBDT</th>\n",
       "      <th>ET</th>\n",
       "      <th>RF</th>\n",
       "      <th>XGBoost</th>\n",
       "      <th>voting_clf</th>\n",
       "    </tr>\n",
       "  </thead>\n",
       "  <tbody>\n",
       "    <tr>\n",
       "      <th>0</th>\n",
       "      <td>0.999245</td>\n",
       "      <td>0.965714</td>\n",
       "      <td>0.63</td>\n",
       "      <td>0.70</td>\n",
       "      <td>0.996427</td>\n",
       "      <td>0.813214</td>\n",
       "    </tr>\n",
       "    <tr>\n",
       "      <th>1</th>\n",
       "      <td>0.973636</td>\n",
       "      <td>0.719205</td>\n",
       "      <td>0.62</td>\n",
       "      <td>0.68</td>\n",
       "      <td>0.846811</td>\n",
       "      <td>0.733405</td>\n",
       "    </tr>\n",
       "    <tr>\n",
       "      <th>2</th>\n",
       "      <td>0.902550</td>\n",
       "      <td>0.907979</td>\n",
       "      <td>0.66</td>\n",
       "      <td>0.65</td>\n",
       "      <td>0.890413</td>\n",
       "      <td>0.775207</td>\n",
       "    </tr>\n",
       "    <tr>\n",
       "      <th>3</th>\n",
       "      <td>0.999968</td>\n",
       "      <td>0.992246</td>\n",
       "      <td>1.00</td>\n",
       "      <td>0.99</td>\n",
       "      <td>0.999960</td>\n",
       "      <td>0.999980</td>\n",
       "    </tr>\n",
       "    <tr>\n",
       "      <th>4</th>\n",
       "      <td>0.998209</td>\n",
       "      <td>0.974646</td>\n",
       "      <td>0.71</td>\n",
       "      <td>0.75</td>\n",
       "      <td>0.993489</td>\n",
       "      <td>0.851745</td>\n",
       "    </tr>\n",
       "    <tr>\n",
       "      <th>5</th>\n",
       "      <td>0.999951</td>\n",
       "      <td>0.987460</td>\n",
       "      <td>0.97</td>\n",
       "      <td>0.99</td>\n",
       "      <td>0.999645</td>\n",
       "      <td>0.984823</td>\n",
       "    </tr>\n",
       "    <tr>\n",
       "      <th>6</th>\n",
       "      <td>0.999692</td>\n",
       "      <td>0.983516</td>\n",
       "      <td>0.96</td>\n",
       "      <td>0.98</td>\n",
       "      <td>0.999409</td>\n",
       "      <td>0.979705</td>\n",
       "    </tr>\n",
       "    <tr>\n",
       "      <th>7</th>\n",
       "      <td>0.992323</td>\n",
       "      <td>0.940815</td>\n",
       "      <td>0.86</td>\n",
       "      <td>0.94</td>\n",
       "      <td>0.999051</td>\n",
       "      <td>0.929526</td>\n",
       "    </tr>\n",
       "    <tr>\n",
       "      <th>8</th>\n",
       "      <td>0.998751</td>\n",
       "      <td>0.984029</td>\n",
       "      <td>0.90</td>\n",
       "      <td>0.95</td>\n",
       "      <td>0.998861</td>\n",
       "      <td>0.949431</td>\n",
       "    </tr>\n",
       "    <tr>\n",
       "      <th>9</th>\n",
       "      <td>0.998268</td>\n",
       "      <td>0.969351</td>\n",
       "      <td>0.74</td>\n",
       "      <td>0.78</td>\n",
       "      <td>0.995513</td>\n",
       "      <td>0.867756</td>\n",
       "    </tr>\n",
       "    <tr>\n",
       "      <th>10</th>\n",
       "      <td>0.010018</td>\n",
       "      <td>0.435348</td>\n",
       "      <td>0.36</td>\n",
       "      <td>0.38</td>\n",
       "      <td>0.356402</td>\n",
       "      <td>0.358201</td>\n",
       "    </tr>\n",
       "    <tr>\n",
       "      <th>11</th>\n",
       "      <td>0.000053</td>\n",
       "      <td>0.013672</td>\n",
       "      <td>0.09</td>\n",
       "      <td>0.06</td>\n",
       "      <td>0.000068</td>\n",
       "      <td>0.045034</td>\n",
       "    </tr>\n",
       "    <tr>\n",
       "      <th>12</th>\n",
       "      <td>0.411380</td>\n",
       "      <td>0.374280</td>\n",
       "      <td>0.62</td>\n",
       "      <td>0.61</td>\n",
       "      <td>0.071516</td>\n",
       "      <td>0.345758</td>\n",
       "    </tr>\n",
       "    <tr>\n",
       "      <th>13</th>\n",
       "      <td>0.002512</td>\n",
       "      <td>0.052564</td>\n",
       "      <td>0.27</td>\n",
       "      <td>0.24</td>\n",
       "      <td>0.003142</td>\n",
       "      <td>0.136571</td>\n",
       "    </tr>\n",
       "    <tr>\n",
       "      <th>14</th>\n",
       "      <td>0.001129</td>\n",
       "      <td>0.046760</td>\n",
       "      <td>0.11</td>\n",
       "      <td>0.07</td>\n",
       "      <td>0.002005</td>\n",
       "      <td>0.056003</td>\n",
       "    </tr>\n",
       "    <tr>\n",
       "      <th>15</th>\n",
       "      <td>0.006934</td>\n",
       "      <td>0.068753</td>\n",
       "      <td>0.28</td>\n",
       "      <td>0.13</td>\n",
       "      <td>0.009328</td>\n",
       "      <td>0.144664</td>\n",
       "    </tr>\n",
       "    <tr>\n",
       "      <th>16</th>\n",
       "      <td>0.005707</td>\n",
       "      <td>0.098281</td>\n",
       "      <td>0.10</td>\n",
       "      <td>0.09</td>\n",
       "      <td>0.017663</td>\n",
       "      <td>0.058831</td>\n",
       "    </tr>\n",
       "    <tr>\n",
       "      <th>17</th>\n",
       "      <td>0.001533</td>\n",
       "      <td>0.052403</td>\n",
       "      <td>0.14</td>\n",
       "      <td>0.11</td>\n",
       "      <td>0.003289</td>\n",
       "      <td>0.071645</td>\n",
       "    </tr>\n",
       "    <tr>\n",
       "      <th>18</th>\n",
       "      <td>0.004294</td>\n",
       "      <td>0.035142</td>\n",
       "      <td>0.16</td>\n",
       "      <td>0.15</td>\n",
       "      <td>0.006964</td>\n",
       "      <td>0.083482</td>\n",
       "    </tr>\n",
       "    <tr>\n",
       "      <th>19</th>\n",
       "      <td>0.316675</td>\n",
       "      <td>0.370820</td>\n",
       "      <td>0.59</td>\n",
       "      <td>0.55</td>\n",
       "      <td>0.318216</td>\n",
       "      <td>0.454108</td>\n",
       "    </tr>\n",
       "  </tbody>\n",
       "</table>\n",
       "</div>"
      ],
      "text/plain": [
       "        LGBM      GBDT    ET    RF   XGBoost  voting_clf\n",
       "0   0.999245  0.965714  0.63  0.70  0.996427    0.813214\n",
       "1   0.973636  0.719205  0.62  0.68  0.846811    0.733405\n",
       "2   0.902550  0.907979  0.66  0.65  0.890413    0.775207\n",
       "3   0.999968  0.992246  1.00  0.99  0.999960    0.999980\n",
       "4   0.998209  0.974646  0.71  0.75  0.993489    0.851745\n",
       "5   0.999951  0.987460  0.97  0.99  0.999645    0.984823\n",
       "6   0.999692  0.983516  0.96  0.98  0.999409    0.979705\n",
       "7   0.992323  0.940815  0.86  0.94  0.999051    0.929526\n",
       "8   0.998751  0.984029  0.90  0.95  0.998861    0.949431\n",
       "9   0.998268  0.969351  0.74  0.78  0.995513    0.867756\n",
       "10  0.010018  0.435348  0.36  0.38  0.356402    0.358201\n",
       "11  0.000053  0.013672  0.09  0.06  0.000068    0.045034\n",
       "12  0.411380  0.374280  0.62  0.61  0.071516    0.345758\n",
       "13  0.002512  0.052564  0.27  0.24  0.003142    0.136571\n",
       "14  0.001129  0.046760  0.11  0.07  0.002005    0.056003\n",
       "15  0.006934  0.068753  0.28  0.13  0.009328    0.144664\n",
       "16  0.005707  0.098281  0.10  0.09  0.017663    0.058831\n",
       "17  0.001533  0.052403  0.14  0.11  0.003289    0.071645\n",
       "18  0.004294  0.035142  0.16  0.15  0.006964    0.083482\n",
       "19  0.316675  0.370820  0.59  0.55  0.318216    0.454108"
      ]
     },
     "execution_count": 19,
     "metadata": {},
     "output_type": "execute_result"
    }
   ],
   "source": [
    "ALL_probabilities"
   ]
  },
  {
   "cell_type": "code",
   "execution_count": 20,
   "id": "2af04cba-810e-45f8-ad93-59b4d6275e84",
   "metadata": {},
   "outputs": [
    {
     "name": "stdout",
     "output_type": "stream",
     "text": [
      "Processing LGBM\n",
      "[LightGBM] [Info] Number of positive: 763, number of negative: 757\n",
      "[LightGBM] [Warning] Auto-choosing col-wise multi-threading, the overhead of testing was 0.008133 seconds.\n",
      "You can set `force_col_wise=true` to remove the overhead.\n",
      "[LightGBM] [Info] Total Bins 46855\n",
      "[LightGBM] [Info] Number of data points in the train set: 1520, number of used features: 265\n",
      "[LightGBM] [Info] [binary:BoostFromScore]: pavg=0.501974 -> initscore=0.007895\n",
      "[LightGBM] [Info] Start training from score 0.007895\n"
     ]
    },
    {
     "data": {
      "image/png": "[encoded data removed]",
      "text/plain": [
       "<Figure size 640x480 with 2 Axes>"
      ]
     },
     "metadata": {},
     "output_type": "display_data"
    },
    {
     "name": "stdout",
     "output_type": "stream",
     "text": [
      "Processing GBDT\n"
     ]
    },
    {
     "data": {
      "image/png": "[encoded data removed]",
      "text/plain": [
       "<Figure size 640x480 with 2 Axes>"
      ]
     },
     "metadata": {},
     "output_type": "display_data"
    },
    {
     "name": "stdout",
     "output_type": "stream",
     "text": [
      "Processing ET\n"
     ]
    },
    {
     "data": {
      "image/png": "[encoded data removed]",
      "text/plain": [
       "<Figure size 640x480 with 2 Axes>"
      ]
     },
     "metadata": {},
     "output_type": "display_data"
    },
    {
     "name": "stdout",
     "output_type": "stream",
     "text": [
      "Processing RF\n"
     ]
    },
    {
     "data": {
      "image/png": "[encoded data removed]",
      "text/plain": [
       "<Figure size 640x480 with 2 Axes>"
      ]
     },
     "metadata": {},
     "output_type": "display_data"
    },
    {
     "name": "stdout",
     "output_type": "stream",
     "text": [
      "Processing XGBoost\n"
     ]
    },
    {
     "data": {
      "image/png": "[encoded data removed]",
      "text/plain": [
       "<Figure size 640x480 with 2 Axes>"
      ]
     },
     "metadata": {},
     "output_type": "display_data"
    },
    {
     "name": "stdout",
     "output_type": "stream",
     "text": [
      "Processing voting_clf\n"
     ]
    },
    {
     "data": {
      "image/png": "[encoded data removed]",
      "text/plain": [
       "<Figure size 640x480 with 2 Axes>"
      ]
     },
     "metadata": {},
     "output_type": "display_data"
    }
   ],
   "source": [
    "from sklearn.metrics import confusion_matrix, plot_confusion_matrix\n",
    "import matplotlib.pyplot as plt\n",
    "\n",
    "index = []\n",
    "ALL_probabilities = pd.DataFrame()\n",
    "\n",
    "for i in ml:\n",
    "    print('Processing {}'.format(i))\n",
    "    model = eval(i)\n",
    "    model.fit(X_train, y_train)\n",
    "    \n",
    "    # Get probabilities for positive class (class 1)\n",
    "    probabilities = model.predict_proba(X_test)[:, 1]\n",
    "    \n",
    "    # Store probabilities in a DataFrame\n",
    "    ALL_probabilities[i] = probabilities\n",
    "    \n",
    "    # Plot confusion matrix\n",
    "    disp = plot_confusion_matrix(model, X_test, y_test, cmap=plt.cm.Blues)\n",
    "    disp.ax_.set_title('{} Confusion Matrix'.format(i))\n",
    "    plt.show()\n",
    "    \n",
    "    index.append(\"{}\".format(i))\n",
    "\n",
    "ALL_probabilities.columns = index"
   ]
  },
  {
   "cell_type": "code",
   "execution_count": 21,
   "id": "22c639e2-205d-46d5-bfd9-cce6d989904d",
   "metadata": {},
   "outputs": [
    {
     "data": {
      "text/plain": [
       "'/home/sadik/ACP/Alternate'"
      ]
     },
     "execution_count": 21,
     "metadata": {},
     "output_type": "execute_result"
    }
   ],
   "source": [
    "import os\n",
    "os.getcwd()"
   ]
  },
  {
   "cell_type": "code",
   "execution_count": 22,
   "id": "b21f5937-ab35-4b02-8cf1-92cf5958b26e",
   "metadata": {},
   "outputs": [],
   "source": [
    "# Reshape input data for CNN (assuming X_train and X_test are sequences of features)\n",
    "X_train_cnn = X_train.reshape(X_train.shape[0], X_train.shape[1], 1)\n",
    "X_test_cnn = X_test.reshape(X_test.shape[0], X_test.shape[1], 1)"
   ]
  },
  {
   "cell_type": "code",
   "execution_count": 23,
   "id": "ee599f4a-0a19-46d3-85e8-65117718796e",
   "metadata": {},
   "outputs": [
    {
     "name": "stderr",
     "output_type": "stream",
     "text": [
      "2024-04-17 11:37:08.395526: W tensorflow/stream_executor/platform/default/dso_loader.cc:64] Could not load dynamic library 'libcudart.so.11.0'; dlerror: libcudart.so.11.0: cannot open shared object file: No such file or directory\n",
      "2024-04-17 11:37:08.395582: I tensorflow/stream_executor/cuda/cudart_stub.cc:29] Ignore above cudart dlerror if you do not have a GPU set up on your machine.\n"
     ]
    }
   ],
   "source": [
    "# Convert labels to one-hot encoding for CNN\n",
    "from tensorflow.keras.utils import to_categorical\n",
    "y_train_cnn = to_categorical(y_train)\n",
    "y_test_cnn = to_categorical(y_test)"
   ]
  },
  {
   "cell_type": "code",
   "execution_count": 24,
   "id": "18856d9c-f3f1-45fa-97c5-93394e75a807",
   "metadata": {},
   "outputs": [
    {
     "name": "stderr",
     "output_type": "stream",
     "text": [
      "2024-04-17 11:37:09.585515: W tensorflow/stream_executor/platform/default/dso_loader.cc:64] Could not load dynamic library 'libcudart.so.11.0'; dlerror: libcudart.so.11.0: cannot open shared object file: No such file or directory\n",
      "2024-04-17 11:37:09.592022: W tensorflow/stream_executor/platform/default/dso_loader.cc:64] Could not load dynamic library 'libcusolver.so.11'; dlerror: libcusolver.so.11: cannot open shared object file: No such file or directory\n",
      "2024-04-17 11:37:09.592800: W tensorflow/core/common_runtime/gpu/gpu_device.cc:1850] Cannot dlopen some GPU libraries. Please make sure the missing libraries mentioned above are installed properly if you would like to use GPU. Follow the guide at https://www.tensorflow.org/install/gpu for how to download and setup the required libraries for your platform.\n",
      "Skipping registering GPU devices...\n",
      "2024-04-17 11:37:09.593825: I tensorflow/core/platform/cpu_feature_guard.cc:151] This TensorFlow binary is optimized with oneAPI Deep Neural Network Library (oneDNN) to use the following CPU instructions in performance-critical operations:  AVX2 FMA\n",
      "To enable them in other operations, rebuild TensorFlow with the appropriate compiler flags.\n"
     ]
    },
    {
     "name": "stdout",
     "output_type": "stream",
     "text": [
      "Epoch 1/30\n",
      "WARNING:tensorflow:AutoGraph could not transform <function Model.make_train_function.<locals>.train_function at 0x7fd83f915c20> and will run it as-is.\n",
      "Please report this to the TensorFlow team. When filing the bug, set the verbosity to 10 (on Linux, `export AUTOGRAPH_VERBOSITY=10`) and attach the full output.\n",
      "Cause: 'arguments' object has no attribute 'posonlyargs'\n",
      "To silence this warning, decorate the function with @tf.autograph.experimental.do_not_convert\n",
      "WARNING: AutoGraph could not transform <function Model.make_train_function.<locals>.train_function at 0x7fd83f915c20> and will run it as-is.\n",
      "Please report this to the TensorFlow team. When filing the bug, set the verbosity to 10 (on Linux, `export AUTOGRAPH_VERBOSITY=10`) and attach the full output.\n",
      "Cause: 'arguments' object has no attribute 'posonlyargs'\n",
      "To silence this warning, decorate the function with @tf.autograph.experimental.do_not_convert\n",
      "5/6 [========================>.....] - ETA: 0s - loss: 0.6497 - accuracy: 0.6719WARNING:tensorflow:AutoGraph could not transform <function Model.make_test_function.<locals>.test_function at 0x7fd8080ec170> and will run it as-is.\n",
      "Please report this to the TensorFlow team. When filing the bug, set the verbosity to 10 (on Linux, `export AUTOGRAPH_VERBOSITY=10`) and attach the full output.\n",
      "Cause: 'arguments' object has no attribute 'posonlyargs'\n",
      "To silence this warning, decorate the function with @tf.autograph.experimental.do_not_convert\n",
      "WARNING: AutoGraph could not transform <function Model.make_test_function.<locals>.test_function at 0x7fd8080ec170> and will run it as-is.\n",
      "Please report this to the TensorFlow team. When filing the bug, set the verbosity to 10 (on Linux, `export AUTOGRAPH_VERBOSITY=10`) and attach the full output.\n",
      "Cause: 'arguments' object has no attribute 'posonlyargs'\n",
      "To silence this warning, decorate the function with @tf.autograph.experimental.do_not_convert\n",
      "\n",
      "Epoch 1: val_loss improved from inf to 0.52322, saving model to best_model.h5\n",
      "6/6 [==============================] - 1s 74ms/step - loss: 0.6322 - accuracy: 0.6888 - val_loss: 0.5232 - val_accuracy: 0.8500\n",
      "Epoch 2/30\n",
      "5/6 [========================>.....] - ETA: 0s - loss: 0.4789 - accuracy: 0.7812\n",
      "Epoch 2: val_loss improved from 0.52322 to 0.38509, saving model to best_model.h5\n",
      "6/6 [==============================] - 0s 38ms/step - loss: 0.4788 - accuracy: 0.7803 - val_loss: 0.3851 - val_accuracy: 0.9000\n",
      "Epoch 3/30\n",
      "4/6 [===================>..........] - ETA: 0s - loss: 0.4059 - accuracy: 0.8232\n",
      "Epoch 3: val_loss improved from 0.38509 to 0.27302, saving model to best_model.h5\n",
      "6/6 [==============================] - 0s 37ms/step - loss: 0.4047 - accuracy: 0.8362 - val_loss: 0.2730 - val_accuracy: 1.0000\n",
      "Epoch 4/30\n",
      "5/6 [========================>.....] - ETA: 0s - loss: 0.3582 - accuracy: 0.8578\n",
      "Epoch 4: val_loss did not improve from 0.27302\n",
      "6/6 [==============================] - 0s 30ms/step - loss: 0.3507 - accuracy: 0.8618 - val_loss: 0.2865 - val_accuracy: 0.8500\n",
      "Epoch 5/30\n",
      "5/6 [========================>.....] - ETA: 0s - loss: 0.3149 - accuracy: 0.8789\n",
      "Epoch 5: val_loss improved from 0.27302 to 0.23174, saving model to best_model.h5\n",
      "6/6 [==============================] - 0s 43ms/step - loss: 0.3128 - accuracy: 0.8789 - val_loss: 0.2317 - val_accuracy: 0.8500\n",
      "Epoch 6/30\n",
      "5/6 [========================>.....] - ETA: 0s - loss: 0.2881 - accuracy: 0.8875\n",
      "Epoch 6: val_loss improved from 0.23174 to 0.18408, saving model to best_model.h5\n",
      "6/6 [==============================] - 0s 40ms/step - loss: 0.2863 - accuracy: 0.8882 - val_loss: 0.1841 - val_accuracy: 0.9000\n",
      "Epoch 7/30\n",
      "6/6 [==============================] - ETA: 0s - loss: 0.2661 - accuracy: 0.8987\n",
      "Epoch 7: val_loss did not improve from 0.18408\n",
      "6/6 [==============================] - 0s 33ms/step - loss: 0.2661 - accuracy: 0.8987 - val_loss: 0.2174 - val_accuracy: 0.9000\n",
      "Epoch 8/30\n",
      "4/6 [===================>..........] - ETA: 0s - loss: 0.2510 - accuracy: 0.9062\n",
      "Epoch 8: val_loss did not improve from 0.18408\n",
      "6/6 [==============================] - 0s 29ms/step - loss: 0.2511 - accuracy: 0.9046 - val_loss: 0.1874 - val_accuracy: 0.9000\n",
      "Epoch 9/30\n",
      "6/6 [==============================] - ETA: 0s - loss: 0.2351 - accuracy: 0.9000\n",
      "Epoch 9: val_loss improved from 0.18408 to 0.17965, saving model to best_model.h5\n",
      "6/6 [==============================] - 0s 38ms/step - loss: 0.2351 - accuracy: 0.9000 - val_loss: 0.1796 - val_accuracy: 0.9000\n",
      "Epoch 10/30\n",
      "5/6 [========================>.....] - ETA: 0s - loss: 0.2217 - accuracy: 0.9180\n",
      "Epoch 10: val_loss improved from 0.17965 to 0.13601, saving model to best_model.h5\n",
      "6/6 [==============================] - 0s 42ms/step - loss: 0.2287 - accuracy: 0.9145 - val_loss: 0.1360 - val_accuracy: 0.9500\n",
      "Epoch 11/30\n",
      "5/6 [========================>.....] - ETA: 0s - loss: 0.2213 - accuracy: 0.9133\n",
      "Epoch 11: val_loss did not improve from 0.13601\n",
      "6/6 [==============================] - 0s 34ms/step - loss: 0.2229 - accuracy: 0.9125 - val_loss: 0.1734 - val_accuracy: 0.9000\n",
      "Epoch 12/30\n",
      "5/6 [========================>.....] - ETA: 0s - loss: 0.1974 - accuracy: 0.9273\n",
      "Epoch 12: val_loss did not improve from 0.13601\n",
      "6/6 [==============================] - 0s 38ms/step - loss: 0.2116 - accuracy: 0.9184 - val_loss: 0.2495 - val_accuracy: 0.9000\n",
      "Epoch 13/30\n",
      "5/6 [========================>.....] - ETA: 0s - loss: 0.2083 - accuracy: 0.9219\n",
      "Epoch 13: val_loss did not improve from 0.13601\n",
      "6/6 [==============================] - 0s 42ms/step - loss: 0.2079 - accuracy: 0.9217 - val_loss: 0.1439 - val_accuracy: 0.9000\n",
      "Epoch 14/30\n",
      "5/6 [========================>.....] - ETA: 0s - loss: 0.1895 - accuracy: 0.9234\n",
      "Epoch 14: val_loss improved from 0.13601 to 0.09920, saving model to best_model.h5\n",
      "6/6 [==============================] - 0s 55ms/step - loss: 0.1981 - accuracy: 0.9204 - val_loss: 0.0992 - val_accuracy: 0.9500\n",
      "Epoch 15/30\n",
      "5/6 [========================>.....] - ETA: 0s - loss: 0.2078 - accuracy: 0.9156\n",
      "Epoch 15: val_loss did not improve from 0.09920\n",
      "6/6 [==============================] - 0s 48ms/step - loss: 0.2005 - accuracy: 0.9197 - val_loss: 0.1507 - val_accuracy: 0.9000\n",
      "Epoch 16/30\n",
      "5/6 [========================>.....] - ETA: 0s - loss: 0.1882 - accuracy: 0.9305\n",
      "Epoch 16: val_loss did not improve from 0.09920\n",
      "6/6 [==============================] - 0s 37ms/step - loss: 0.1905 - accuracy: 0.9276 - val_loss: 0.1914 - val_accuracy: 0.9000\n",
      "Epoch 17/30\n",
      "5/6 [========================>.....] - ETA: 0s - loss: 0.1688 - accuracy: 0.9391\n",
      "Epoch 17: val_loss did not improve from 0.09920\n",
      "6/6 [==============================] - 0s 32ms/step - loss: 0.1731 - accuracy: 0.9368 - val_loss: 0.1277 - val_accuracy: 0.9500\n",
      "Epoch 18/30\n",
      "5/6 [========================>.....] - ETA: 0s - loss: 0.1721 - accuracy: 0.9391\n",
      "Epoch 18: val_loss did not improve from 0.09920\n",
      "6/6 [==============================] - 0s 32ms/step - loss: 0.1714 - accuracy: 0.9382 - val_loss: 0.1434 - val_accuracy: 0.9000\n",
      "Epoch 19/30\n",
      "6/6 [==============================] - ETA: 0s - loss: 0.1522 - accuracy: 0.9401\n",
      "Epoch 19: val_loss did not improve from 0.09920\n",
      "Restoring model weights from the end of the best epoch: 14.\n",
      "6/6 [==============================] - 0s 31ms/step - loss: 0.1522 - accuracy: 0.9401 - val_loss: 0.1890 - val_accuracy: 0.9000\n",
      "Epoch 19: early stopping\n"
     ]
    },
    {
     "data": {
      "image/png": "[encoded data removed]",
      "text/plain": [
       "<Figure size 640x480 with 1 Axes>"
      ]
     },
     "metadata": {},
     "output_type": "display_data"
    },
    {
     "name": "stdout",
     "output_type": "stream",
     "text": [
      "1/1 [==============================] - 0s 28ms/step - loss: 0.0992 - accuracy: 0.9500\n",
      "Test Loss: 0.09919597953557968\n",
      "Test Accuracy: 0.949999988079071\n"
     ]
    }
   ],
   "source": [
    "# Build CNN Model\n",
    "import numpy as np\n",
    "from sklearn.model_selection import train_test_split\n",
    "from keras.models import Sequential\n",
    "from keras.layers import Conv1D, MaxPooling1D, Flatten, Dense, Dropout\n",
    "import matplotlib.pyplot as plt\n",
    "from keras.callbacks import ModelCheckpoint, EarlyStopping\n",
    "#from tensorflow.keras.optimizers import Adam\n",
    "\n",
    "learning_rate = 0.0001\n",
    "#rom keras.utils import to_categorical\n",
    "model = Sequential()\n",
    "model.add(Conv1D(64, 3, activation='relu', input_shape=(X_train_cnn.shape[1], 1)))\n",
    "model.add(MaxPooling1D(2))\n",
    "model.add(Conv1D(128, 3, activation='relu'))\n",
    "model.add(MaxPooling1D(2))\n",
    "model.add(Flatten())\n",
    "model.add(Dense(128, activation='relu'))\n",
    "model.add(Dropout(0.5))\n",
    "model.add(Dense(2, activation='softmax'))  # 2 output classes (binary classification)\n",
    "\n",
    "\n",
    "# Define callbacks\n",
    "checkpoint = ModelCheckpoint('best_model.h5', monitor='val_loss', verbose=1, save_best_only=True, mode='min')\n",
    "early_stopping = EarlyStopping(monitor='val_loss', patience=5, verbose=1, mode='min', restore_best_weights=True)\n",
    "# Compile CNN Model\n",
    "\n",
    "model.compile(optimizer='adam',loss='binary_crossentropy', metrics=['accuracy'])\n",
    "\n",
    "# Train CNN Model\n",
    "history = model.fit(X_train_cnn, y_train_cnn, epochs=30, batch_size=256, validation_data=(X_test_cnn, y_test_cnn),callbacks=[checkpoint, early_stopping])\n",
    "\n",
    "\n",
    "# Plot training and validation loss\n",
    "plt.plot(history.history['loss'], label='Training Loss')\n",
    "plt.plot(history.history['val_loss'], label='Validation Loss')\n",
    "plt.xlabel('Epochs')\n",
    "plt.ylabel('Loss')\n",
    "plt.title('Training and Validation Loss')\n",
    "plt.legend()\n",
    "plt.show()\n",
    "\n",
    "# Evaluate CNN Model\n",
    "loss, accuracy = model.evaluate(X_test_cnn, y_test_cnn)\n",
    "print('Test Loss:', loss)\n",
    "print('Test Accuracy:', accuracy)\n",
    "# Evaluate CNN Model\n",
    "#oss, accuracy = model.evaluate(X_test_cnn, y_test_cnn)\n",
    "#rint('Test Loss:', loss)\n",
    "#rint('Test Accuracy:', accuracy)"
   ]
  },
  {
   "cell_type": "code",
   "execution_count": 25,
   "id": "1702cce6-daad-4c20-8a31-375741b3ac7a",
   "metadata": {},
   "outputs": [
    {
     "name": "stdout",
     "output_type": "stream",
     "text": [
      "Model: \"sequential\"\n",
      "_________________________________________________________________\n",
      " Layer (type)                Output Shape              Param #   \n",
      "=================================================================\n",
      " conv1d (Conv1D)             (None, 263, 64)           256       \n",
      "                                                                 \n",
      " max_pooling1d (MaxPooling1D  (None, 131, 64)          0         \n",
      " )                                                               \n",
      "                                                                 \n",
      " conv1d_1 (Conv1D)           (None, 129, 128)          24704     \n",
      "                                                                 \n",
      " max_pooling1d_1 (MaxPooling  (None, 64, 128)          0         \n",
      " 1D)                                                             \n",
      "                                                                 \n",
      " flatten (Flatten)           (None, 8192)              0         \n",
      "                                                                 \n",
      " dense (Dense)               (None, 128)               1048704   \n",
      "                                                                 \n",
      " dropout (Dropout)           (None, 128)               0         \n",
      "                                                                 \n",
      " dense_1 (Dense)             (None, 2)                 258       \n",
      "                                                                 \n",
      "=================================================================\n",
      "Total params: 1,073,922\n",
      "Trainable params: 1,073,922\n",
      "Non-trainable params: 0\n",
      "_________________________________________________________________\n"
     ]
    }
   ],
   "source": [
    "model.summary()"
   ]
  },
  {
   "cell_type": "code",
   "execution_count": 26,
   "id": "75cb2387-35e0-46ba-a5f3-4a92a2063b38",
   "metadata": {},
   "outputs": [
    {
     "name": "stdout",
     "output_type": "stream",
     "text": [
      "WARNING:tensorflow:AutoGraph could not transform <function Model.make_predict_function.<locals>.predict_function at 0x7fd7e81eec20> and will run it as-is.\n",
      "Please report this to the TensorFlow team. When filing the bug, set the verbosity to 10 (on Linux, `export AUTOGRAPH_VERBOSITY=10`) and attach the full output.\n",
      "Cause: 'arguments' object has no attribute 'posonlyargs'\n",
      "To silence this warning, decorate the function with @tf.autograph.experimental.do_not_convert\n",
      "WARNING: AutoGraph could not transform <function Model.make_predict_function.<locals>.predict_function at 0x7fd7e81eec20> and will run it as-is.\n",
      "Please report this to the TensorFlow team. When filing the bug, set the verbosity to 10 (on Linux, `export AUTOGRAPH_VERBOSITY=10`) and attach the full output.\n",
      "Cause: 'arguments' object has no attribute 'posonlyargs'\n",
      "To silence this warning, decorate the function with @tf.autograph.experimental.do_not_convert\n"
     ]
    }
   ],
   "source": [
    "cnn_preds = model.predict(X_test_cnn)"
   ]
  },
  {
   "cell_type": "code",
   "execution_count": 27,
   "id": "2700f371-da45-42c3-875b-40e362f11723",
   "metadata": {},
   "outputs": [
    {
     "data": {
      "text/plain": [
       "array([[2.6148442e-05, 9.9997389e-01],\n",
       "       [1.1417235e-04, 9.9988580e-01],\n",
       "       [1.2156947e-02, 9.8784304e-01],\n",
       "       [2.2172146e-06, 9.9999774e-01],\n",
       "       [7.6640747e-04, 9.9923360e-01],\n",
       "       [3.8804901e-06, 9.9999607e-01],\n",
       "       [3.7291149e-05, 9.9996269e-01],\n",
       "       [6.8099092e-05, 9.9993193e-01],\n",
       "       [1.7565716e-03, 9.9824345e-01],\n",
       "       [4.3123934e-04, 9.9956876e-01],\n",
       "       [2.5991780e-01, 7.4008226e-01],\n",
       "       [9.9989915e-01, 1.0084124e-04],\n",
       "       [7.7391618e-01, 2.2608383e-01],\n",
       "       [9.9968970e-01, 3.1032279e-04],\n",
       "       [9.9961215e-01, 3.8781704e-04],\n",
       "       [9.8351800e-01, 1.6481999e-02],\n",
       "       [9.9979597e-01, 2.0403403e-04],\n",
       "       [9.9812418e-01, 1.8757845e-03],\n",
       "       [9.9993348e-01, 6.6502784e-05],\n",
       "       [9.8913670e-01, 1.0863282e-02]], dtype=float32)"
      ]
     },
     "execution_count": 27,
     "metadata": {},
     "output_type": "execute_result"
    }
   ],
   "source": [
    "cnn_preds"
   ]
  },
  {
   "cell_type": "code",
   "execution_count": 28,
   "id": "2de8b83f-0fe4-4585-abea-98d150875ab3",
   "metadata": {},
   "outputs": [
    {
     "data": {
      "text/plain": [
       "array([1, 1, 1, 1, 1, 1, 1, 1, 1, 1, 1, 0, 0, 0, 0, 0, 0, 0, 0, 0])"
      ]
     },
     "execution_count": 28,
     "metadata": {},
     "output_type": "execute_result"
    }
   ],
   "source": [
    "voting_preds"
   ]
  },
  {
   "cell_type": "code",
   "execution_count": 29,
   "id": "9d0e169b-029e-4de3-b2d1-f86521bec8b1",
   "metadata": {},
   "outputs": [],
   "source": [
    "# Convert class labels to one-hot encoding\n",
    "num_classes = 2\n",
    "voting_preds_onehot = np.eye(num_classes)[voting_preds]"
   ]
  },
  {
   "cell_type": "code",
   "execution_count": 30,
   "id": "bb42d633-ad29-421e-a302-333af710c315",
   "metadata": {},
   "outputs": [
    {
     "data": {
      "text/plain": [
       "array([[0., 1.],\n",
       "       [0., 1.],\n",
       "       [0., 1.],\n",
       "       [0., 1.],\n",
       "       [0., 1.],\n",
       "       [0., 1.],\n",
       "       [0., 1.],\n",
       "       [0., 1.],\n",
       "       [0., 1.],\n",
       "       [0., 1.],\n",
       "       [0., 1.],\n",
       "       [1., 0.],\n",
       "       [1., 0.],\n",
       "       [1., 0.],\n",
       "       [1., 0.],\n",
       "       [1., 0.],\n",
       "       [1., 0.],\n",
       "       [1., 0.],\n",
       "       [1., 0.],\n",
       "       [1., 0.]])"
      ]
     },
     "execution_count": 30,
     "metadata": {},
     "output_type": "execute_result"
    }
   ],
   "source": [
    "voting_preds_onehot"
   ]
  },
  {
   "cell_type": "code",
   "execution_count": 31,
   "id": "5ae10c83-02c9-4069-845d-e2ca0abd035f",
   "metadata": {},
   "outputs": [],
   "source": [
    "# Average the predictions\n",
    "average_preds = (cnn_preds + voting_preds_onehot) / 2"
   ]
  },
  {
   "cell_type": "code",
   "execution_count": 32,
   "id": "1be64b9e-5a44-4b4b-83fd-5d7dfaea756e",
   "metadata": {},
   "outputs": [],
   "source": [
    "# Convert average predictions to binary labels (0 or 1)\n",
    "average_labels = np.argmax(average_preds, axis=1)"
   ]
  },
  {
   "cell_type": "code",
   "execution_count": 33,
   "id": "861f236c-e44e-4a38-a6bf-df3dc8a67b45",
   "metadata": {},
   "outputs": [
    {
     "name": "stdout",
     "output_type": "stream",
     "text": [
      "Accuracy: 0.95\n",
      "Sensitivity: 1.0\n",
      "Specificity: 0.9\n",
      "MCC: 0.9045340337332909\n"
     ]
    }
   ],
   "source": [
    "# Compute evaluation metrics\n",
    "from sklearn.metrics import accuracy_score, recall_score, precision_score, matthews_corrcoef\n",
    "accuracy = accuracy_score(y_test, average_labels)\n",
    "sensitivity = recall_score(y_test, average_labels)\n",
    "specificity = recall_score(y_test, average_labels, pos_label=0)  # For binary classification\n",
    "mcc = matthews_corrcoef(y_test, average_labels)\n",
    "\n",
    "print('Accuracy:', accuracy)\n",
    "print('Sensitivity:', sensitivity)\n",
    "print('Specificity:', specificity)\n",
    "print('MCC:', mcc)"
   ]
  },
  {
   "cell_type": "code",
   "execution_count": null,
   "id": "1ce37372-4421-417f-a28a-67c6671ed92d",
   "metadata": {},
   "outputs": [],
   "source": []
  },
  {
   "cell_type": "code",
   "execution_count": null,
   "id": "4dd3ef23-17c2-463b-9f57-179eab3b508a",
   "metadata": {},
   "outputs": [],
   "source": []
  }
 ],
 "metadata": {
  "kernelspec": {
   "display_name": "Python 3 (ipykernel)",
   "language": "python",
   "name": "python3"
  },
  "language_info": {
   "codemirror_mode": {
    "name": "ipython",
    "version": 3
   },
   "file_extension": ".py",
   "mimetype": "text/x-python",
   "name": "python",
   "nbconvert_exporter": "python",
   "pygments_lexer": "ipython3",
   "version": "3.7.16"
  }
 },
 "nbformat": 4,
 "nbformat_minor": 5
}
